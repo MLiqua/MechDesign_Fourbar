{
 "cells": [
  {
   "cell_type": "markdown",
   "id": "b56c3dc2",
   "metadata": {},
   "source": [
    "# Slider-Crank Mechanism Position, Velocity, and Accleration Vector Solver\n",
    "    Written By: Matt Ryan Liqua \n",
    "    Written: 3/13/25 \n",
    "    Last Updated: 3/14/25 \n",
    "    Repo: https://github.com/MLiqua/FourBarPostion"
   ]
  },
  {
   "cell_type": "code",
   "execution_count": 12,
   "id": "be77b3aa",
   "metadata": {},
   "outputs": [
    {
     "name": "stdout",
     "output_type": "stream",
     "text": [
      "This calculation assumes ground is d [R1] \n",
      "\n",
      "Input a [R2] length: stdin> 40\n",
      "Input b [R3] length: stdin> 120\n",
      "Input c [R4] length: stdin> -20\n",
      "Input d [R1] length: stdin> 100\n",
      "Input Ddot [R1] length: stdin> 1200\n",
      "Input DdotDot [R1] length: stdin> 600\n"
     ]
    }
   ],
   "source": [
    "# Inputs\n",
    "# ';' At end supresses output\n",
    "# TO DO: Make it all in standard SI units (m)\n",
    "# Theta2 and Theat3 Unknown\n",
    "println(\"This calculation assumes ground is d [R1] \\n\")\n",
    "print(\"Input a [R2] length: \") \n",
    "a = parse(Float64, readline())\n",
    "\n",
    "print(\"Input b [R3] length: \") \n",
    "b = parse(Float64, readline())\n",
    "\n",
    "print(\"Input c [R4] length: \") \n",
    "c = parse(Float64, readline())\n",
    "# That line over there\n",
    "\n",
    "print(\"Input d [R1] length: \") \n",
    "d = parse(Float64, readline())\n",
    "\n",
    "print(\"Input Ddot [R1] length: \") \n",
    "Ddot = parse(Float64, readline())\n",
    "\n",
    "print(\"Input DdotDot [R1] length: \") \n",
    "DdotDot = parse(Float64, readline())\n",
    "; "
   ]
  },
  {
   "cell_type": "code",
   "execution_count": 13,
   "id": "c9caaa21",
   "metadata": {},
   "outputs": [],
   "source": [
    "K1 = (a^2) - (b^2) + (c^2) + (d^2)\n",
    "K2 = -2*a*c\n",
    "K3 = -2*a*d\n",
    "\n",
    "A = K1 - K3\n",
    "B = 2*K2\n",
    "C = K1 + K3\n",
    ";"
   ]
  },
  {
   "cell_type": "code",
   "execution_count": 14,
   "id": "593c7d0d",
   "metadata": {},
   "outputs": [],
   "source": [
    "# Theta 2_1 & Theta2_2\n",
    "# B/C Theta 2 is not defined, it can be anywhere in space, hence you see branching behvaior (Theta3)\n",
    "\n",
    "TopPart = -B + sqrt(complex( (B^2) - (4*A*C) )  )\n",
    "BotPart = 2*A\n",
    "RadTheta2_1 = 2*atan( real(TopPart) / BotPart)\n",
    "DegTheta2_1 = rad2deg(RadTheta2_1)\n",
    "\n",
    "TopPart = -B - sqrt(complex( (B^2) - (4*A*C) )  )\n",
    "BotPart = 2*A\n",
    "RadTheta2_2 = 2*atan( real(TopPart) / BotPart)\n",
    "DegTheta2_2 = rad2deg(RadTheta2_2)\n",
    ";"
   ]
  },
  {
   "cell_type": "code",
   "execution_count": 39,
   "id": "b036a692",
   "metadata": {},
   "outputs": [
    {
     "name": "stdout",
     "output_type": "stream",
     "text": [
      "150.11275837897688\n",
      "187.26737667298272\n"
     ]
    }
   ],
   "source": [
    "# Theta3_1_1, Theta3_1_2, Theta3_2_1, and Theta3_2_2\n",
    "# Question: Determine why only two...?\n",
    "\n",
    "#FracTop = a*sin(RadTheta2_1) - c\n",
    "#FracBot = b\n",
    "#RadTheta3_1_1 = asin(FracTop / FracBot)\n",
    "#DegTheta3_1_1 = rad2deg(RadTheta3_1_1)\n",
    "\n",
    "FracTop = a*sin(RadTheta2_1) - c\n",
    "FracBot = b\n",
    "RadTheta3_1_2 = asin(-FracTop / FracBot) + pi\n",
    "DegTheta3_1_2 = rad2deg(RadTheta3_1_2)\n",
    "\n",
    "#FracTop = a*sin(RadTheta2_2) - c\n",
    "#FracBot = b\n",
    "#RadTheta3_2_1 = asin(FracTop / FracBot)\n",
    "#DegTheta3_2_1 = rad2deg(RadTheta3_2_1)\n",
    "\n",
    "FracTop = a*sin(RadTheta2_2) - c\n",
    "FracBot = b\n",
    "RadTheta3_2_2 = asin(-FracTop / FracBot) + pi\n",
    "DegTheta3_2_2 = rad2deg(RadTheta3_2_2)\n",
    ";\n",
    "#println(DegTheta3_1_1)\n",
    "println(DegTheta3_1_2)\n",
    "println(DegTheta3_2_2)\n",
    "#println(DegTheta3_2_1)"
   ]
  },
  {
   "cell_type": "code",
   "execution_count": 40,
   "id": "41f4db53",
   "metadata": {},
   "outputs": [],
   "source": [
    "# Calc Omega2_1_1, Omega2_1_2\n",
    "# Looks as if I have solve for Ddot...\n",
    "\n",
    "FracTop = Ddot*cos(RadTheta3_1_2)\n",
    "FracBot  = a*( sin(RadTheta3_1_2)*cos(RadTheta2_1) - sin(RadTheta2_1)*cos(RadTheta3_1_2) )\n",
    "Omega2_1 = FracTop / FracBot\n",
    "\n",
    "FracTop = Ddot*cos(RadTheta3_2_2)\n",
    "FracBot = a*( sin(RadTheta3_2_2)*cos(RadTheta2_2) - sin(RadTheta2_2)*cos(RadTheta3_2_2) )\n",
    "Omega2_2 = FracTop / FracBot\n",
    ";"
   ]
  },
  {
   "cell_type": "code",
   "execution_count": 42,
   "id": "551f0a79",
   "metadata": {},
   "outputs": [],
   "source": [
    "# Omega 3_1 & Omega3_2\n",
    "\n",
    "FracTop = a*Omega2_1*cos(RadTheta2_1)\n",
    "FracBot = b*cos(RadTheta3_1_2)\n",
    "Omega3_1 = FracTop / FracBot\n",
    "\n",
    "FracTop = a*Omega2_2*cos(RadTheta2_2)\n",
    "FracBot = b*cos(RadTheta3_2_2)\n",
    "Omega3_2 = FracTop / FracBot\n",
    ";"
   ]
  },
  {
   "cell_type": "code",
   "execution_count": 43,
   "id": "3c73cd88",
   "metadata": {},
   "outputs": [],
   "source": [
    "# Calc Alpha2_1 & Alpha2_2\n",
    "FracTop = a*Omega2_1^2*( cos(RadTheta2_1)*cos(RadTheta3_1_2) + sin(RadTheta2_1)*sin(RadTheta3_1_2) ) - b*Omega3_1^2 + DdotDot*cos(RadTheta3_1_2)\n",
    "FracBot = a*( cos(RadTheta2_1)*sin(RadTheta3_1_2) - sin(RadTheta2_1)*cos(RadTheta3_1_2) )\n",
    "Alpha2_1 = FracTop / FracBot\n",
    "\n",
    "FracTop = a*Omega2_2^2*( cos(RadTheta2_2)*cos(RadTheta3_2_2) + sin(RadTheta2_2)*sin(RadTheta3_2_2) ) - b*Omega3_2^2 + DdotDot*cos(RadTheta3_2_2)\n",
    "FracBot = a*( cos(RadTheta2_2)*sin(RadTheta3_2_2) - sin(RadTheta2_2)*cos(RadTheta3_2_2) )\n",
    "Alpha2_2 = FracTop / FracBot\n",
    ";\n",
    "#println(Alpha2_1)\n",
    "#println(Alpha2_2)"
   ]
  },
  {
   "cell_type": "code",
   "execution_count": 44,
   "id": "78299295",
   "metadata": {},
   "outputs": [],
   "source": [
    "# Calc Alpha3_1 & Alpha3_2\n",
    "FracTop = a*Alpha2_1*cos(RadTheta2_1) - a*Omega2_1^2*sin(RadTheta2_1) + b*Omega3_1^2*sin(RadTheta3_1_2)\n",
    "FracBot = b*cos(RadTheta3_1_2)\n",
    "Alpha3_1 = FracTop / FracBot\n",
    "\n",
    "FracTop = a*Alpha2_2*cos(RadTheta2_2) - a*Omega2_2^2*sin(RadTheta2_2) + b*Omega3_2^2*sin(RadTheta3_2_2)\n",
    "FracBot = b*cos(RadTheta3_2_2)\n",
    "Alpha3_2 = FracTop / FracBot\n",
    ";\n",
    "#println(Alpha3_1)\n",
    "#println(Alpha3_2)"
   ]
  },
  {
   "cell_type": "code",
   "execution_count": 49,
   "id": "d485319f",
   "metadata": {},
   "outputs": [
    {
     "name": "stdout",
     "output_type": "stream",
     "text": [
      "\u001b[0m\u001b[1mThese are the final values: \u001b[22m\n",
      "\u001b[0m\u001b[4mCircuit One\t\tCircuit Two\u001b[24m\n",
      "Theta2_1: 95.8\t\t Theta2_2: -118.42\n",
      "Theta3_1: 150.11\t Theta3_2: 187.27\n",
      "Omega2_1: -32.02\t Omega2_2: 36.64\n",
      "Omega3_1: -1.24\t\t Omega3_2: 5.86\n",
      "Alpha2_1: 714.76\t Alpha2_2: -818.96\n",
      "Alpha3_1: 419.12\t Alpha3_2: -523.32\n",
      "\n",
      "\u001b[0m\u001b[1mThese are the velocity vectors: \u001b[22m\n"
     ]
    }
   ],
   "source": [
    "#Outputs\n",
    "# Write the Velocity and Accleration Vectors\n",
    "using Base\n",
    "\n",
    "printstyled(\"These are the final values: \\n\", bold = true)\n",
    "printstyled(\"Circuit One\",\"\\t\\tCircuit Two\\n\", underline =true)\n",
    "println(\"Theta2_1: \", round(DegTheta2_1, digits =2), \"\\t\\t Theta2_2: \", round(DegTheta2_2, digits = 2))\n",
    "println(\"Theta3_1: \", round(DegTheta3_1_2, digits =2), \"\\t Theta3_2: \", round(DegTheta3_2_2, digits = 2))\n",
    "println(\"Omega2_1: \", round(Omega2_1, digits =2), \"\\t Omega2_2: \", round(Omega2_2, digits = 2))\n",
    "println(\"Omega3_1: \", round(Omega3_1, digits =2), \"\\t\\t Omega3_2: \", round(Omega3_2, digits = 2))\n",
    "println(\"Alpha2_1: \", round(Alpha2_1, digits =2), \"\\t Alpha2_2: \", round(Alpha2_2, digits = 2))\n",
    "println(\"Alpha3_1: \", round(Alpha3_1, digits =2), \"\\t Alpha3_2: \", round(Alpha3_2, digits = 2), \"\\n\")\n",
    "\n",
    "printstyled(\"These are the velocity vectors: \\n\", bold = true)\n"
   ]
  },
  {
   "cell_type": "code",
   "execution_count": null,
   "id": "b07cad8e",
   "metadata": {},
   "outputs": [],
   "source": [
    "#Graphing The Vector Loops\n",
    "import numpy as np\n",
    "import matplotlib.pyplot as plt\n",
    "\n",
    "R1_x = d * cos(0) \n",
    "R1_y = d * sin(0)\n",
    "R4_x_1 = c * cos(1.5707) # Goes to 0\n",
    "R4_y_1 = c * sin(1.5707)"
   ]
  },
  {
   "cell_type": "code",
   "execution_count": null,
   "id": "71838505",
   "metadata": {},
   "outputs": [],
   "source": [
    "\n",
    "# Plot 1 Values: Theta2_1 & Theta3_1_1\n",
    "Theta2_1_R2_x = a * cos(RadTheta2_1)\n",
    "Theta2_1_R2_y = a * sin(RadTheta2_1)\n",
    "Theta3_1_1_R3_x = b * cos(RadTheta3_1_1)\n",
    "Theta3_1_1_R3_y = b * sin(RadTheta3_1_1)\n"
   ]
  },
  {
   "cell_type": "code",
   "execution_count": null,
   "id": "49b4f6fd",
   "metadata": {},
   "outputs": [],
   "source": [
    "# Plot 2 Vectors\n",
    "# Plot 2 Values: Theta2_1 & Theta3_1_2\n",
    "Theta3_1_2_R3_x = b * cos(RadTheta3_1_2)\n",
    "Theta3_1_2_R3_y = b * sin(RadTheta3_1_2)"
   ]
  },
  {
   "cell_type": "code",
   "execution_count": null,
   "id": "fe591867",
   "metadata": {},
   "outputs": [],
   "source": [
    "# Plot 3 Vectors\n",
    "# Plot 3 Values: Theta2_2 & Theta3_2_1\n",
    "Theta2_2_R2_x = b * cos(RadTheta2_2)\n",
    "Theta2_2_R2_y = b * sin(RadTheta2_2)\n",
    "Theta3_2_1_R3_x = b * cos(RadTheta3_2_1)\n",
    "Theta3_2_1_R3_y = b * sin(RadTheta3_2_1)"
   ]
  },
  {
   "cell_type": "code",
   "execution_count": null,
   "id": "e7196156",
   "metadata": {},
   "outputs": [],
   "source": [
    "# Plot 4 Vectors\n",
    "# Plot 4 Values: Theta2_2 & Theta3_2_2\n",
    "Theta3_2_2_R3_x = b * cos(RadTheta3_2_2)\n",
    "Theta3_2_2_R3_y = b * sin(RadTheta3_2_2)"
   ]
  },
  {
   "cell_type": "code",
   "execution_count": null,
   "id": "6a66beb1",
   "metadata": {},
   "outputs": [],
   "source": [
    "# Approximately Fourplots"
   ]
  },
  {
   "cell_type": "code",
   "execution_count": null,
   "id": "88ec953f",
   "metadata": {},
   "outputs": [],
   "source": []
  },
  {
   "cell_type": "code",
   "execution_count": null,
   "id": "9235f0b1",
   "metadata": {},
   "outputs": [],
   "source": []
  },
  {
   "cell_type": "code",
   "execution_count": null,
   "id": "f672a818",
   "metadata": {},
   "outputs": [],
   "source": []
  }
 ],
 "metadata": {
  "kernelspec": {
   "display_name": "Julia 1.11.3",
   "language": "julia",
   "name": "julia-1.11"
  },
  "language_info": {
   "file_extension": ".jl",
   "mimetype": "application/julia",
   "name": "julia",
   "version": "1.11.3"
  }
 },
 "nbformat": 4,
 "nbformat_minor": 5
}
